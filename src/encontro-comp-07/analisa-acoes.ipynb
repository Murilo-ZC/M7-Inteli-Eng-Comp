{
 "cells": [
  {
   "cell_type": "markdown",
   "id": "4e1f629e-c627-4375-9a5a-52248cad537c",
   "metadata": {},
   "source": [
    "# Análise das ações para predizer os valores futuros\n",
    "\n",
    "Ações avaliadas:\n",
    "- Tesla, Inc. (TSLA)\n",
    "- Apple Inc. (AAPL)\n",
    "- Alphabet Inc. (GOOG)\n",
    "- NVIDIA Corporation (NVDA)\n",
    "- Intel Corporation (INTC)\n",
    "\n",
    "## Procedimento\n",
    "\n",
    "- Pegar os dados;\n",
    "- Realizar exploração básica;\n",
    "- Verificar estacionálidade dos dados;\n",
    "- Aplicar diferencial nos dados;\n",
    "- Aplicar o modelo escohido;\n",
    "- Pegar previsão;\n",
    "- Ganhar a competição 🐧😊👌!"
   ]
  },
  {
   "cell_type": "code",
   "execution_count": 2,
   "id": "f5205e4f-4a76-4fe8-be4a-3137a71f6e85",
   "metadata": {},
   "outputs": [],
   "source": [
    "# Importando as bibliotecas\n",
    "import pandas as pd\n",
    "import matplotlib.pyplot as plt\n",
    "import yfinance as yf\n",
    "from statsmodels.tsa.stattools import adfuller"
   ]
  },
  {
   "cell_type": "markdown",
   "id": "6c7b8e27-b8ac-4a06-99e0-9668f5661688",
   "metadata": {},
   "source": [
    "## Ação: Tesla, Inc. (TSLA)"
   ]
  },
  {
   "cell_type": "code",
   "execution_count": 5,
   "id": "45ba0a4e-d2d5-4456-89ae-0fb9968f5292",
   "metadata": {},
   "outputs": [
    {
     "data": {
      "text/html": [
       "<div>\n",
       "<style scoped>\n",
       "    .dataframe tbody tr th:only-of-type {\n",
       "        vertical-align: middle;\n",
       "    }\n",
       "\n",
       "    .dataframe tbody tr th {\n",
       "        vertical-align: top;\n",
       "    }\n",
       "\n",
       "    .dataframe thead th {\n",
       "        text-align: right;\n",
       "    }\n",
       "</style>\n",
       "<table border=\"1\" class=\"dataframe\">\n",
       "  <thead>\n",
       "    <tr style=\"text-align: right;\">\n",
       "      <th></th>\n",
       "      <th>Open</th>\n",
       "      <th>High</th>\n",
       "      <th>Low</th>\n",
       "      <th>Close</th>\n",
       "      <th>Volume</th>\n",
       "      <th>Dividends</th>\n",
       "      <th>Stock Splits</th>\n",
       "    </tr>\n",
       "    <tr>\n",
       "      <th>Date</th>\n",
       "      <th></th>\n",
       "      <th></th>\n",
       "      <th></th>\n",
       "      <th></th>\n",
       "      <th></th>\n",
       "      <th></th>\n",
       "      <th></th>\n",
       "    </tr>\n",
       "  </thead>\n",
       "  <tbody>\n",
       "    <tr>\n",
       "      <th>1980-12-12 00:00:00-05:00</th>\n",
       "      <td>0.098943</td>\n",
       "      <td>0.099373</td>\n",
       "      <td>0.098943</td>\n",
       "      <td>0.098943</td>\n",
       "      <td>469033600</td>\n",
       "      <td>0.0</td>\n",
       "      <td>0.0</td>\n",
       "    </tr>\n",
       "    <tr>\n",
       "      <th>1980-12-15 00:00:00-05:00</th>\n",
       "      <td>0.094211</td>\n",
       "      <td>0.094211</td>\n",
       "      <td>0.093781</td>\n",
       "      <td>0.093781</td>\n",
       "      <td>175884800</td>\n",
       "      <td>0.0</td>\n",
       "      <td>0.0</td>\n",
       "    </tr>\n",
       "    <tr>\n",
       "      <th>1980-12-16 00:00:00-05:00</th>\n",
       "      <td>0.087328</td>\n",
       "      <td>0.087328</td>\n",
       "      <td>0.086898</td>\n",
       "      <td>0.086898</td>\n",
       "      <td>105728000</td>\n",
       "      <td>0.0</td>\n",
       "      <td>0.0</td>\n",
       "    </tr>\n",
       "    <tr>\n",
       "      <th>1980-12-17 00:00:00-05:00</th>\n",
       "      <td>0.089049</td>\n",
       "      <td>0.089479</td>\n",
       "      <td>0.089049</td>\n",
       "      <td>0.089049</td>\n",
       "      <td>86441600</td>\n",
       "      <td>0.0</td>\n",
       "      <td>0.0</td>\n",
       "    </tr>\n",
       "    <tr>\n",
       "      <th>1980-12-18 00:00:00-05:00</th>\n",
       "      <td>0.091630</td>\n",
       "      <td>0.092061</td>\n",
       "      <td>0.091630</td>\n",
       "      <td>0.091630</td>\n",
       "      <td>73449600</td>\n",
       "      <td>0.0</td>\n",
       "      <td>0.0</td>\n",
       "    </tr>\n",
       "  </tbody>\n",
       "</table>\n",
       "</div>"
      ],
      "text/plain": [
       "                               Open      High       Low     Close     Volume  \\\n",
       "Date                                                                           \n",
       "1980-12-12 00:00:00-05:00  0.098943  0.099373  0.098943  0.098943  469033600   \n",
       "1980-12-15 00:00:00-05:00  0.094211  0.094211  0.093781  0.093781  175884800   \n",
       "1980-12-16 00:00:00-05:00  0.087328  0.087328  0.086898  0.086898  105728000   \n",
       "1980-12-17 00:00:00-05:00  0.089049  0.089479  0.089049  0.089049   86441600   \n",
       "1980-12-18 00:00:00-05:00  0.091630  0.092061  0.091630  0.091630   73449600   \n",
       "\n",
       "                           Dividends  Stock Splits  \n",
       "Date                                                \n",
       "1980-12-12 00:00:00-05:00        0.0           0.0  \n",
       "1980-12-15 00:00:00-05:00        0.0           0.0  \n",
       "1980-12-16 00:00:00-05:00        0.0           0.0  \n",
       "1980-12-17 00:00:00-05:00        0.0           0.0  \n",
       "1980-12-18 00:00:00-05:00        0.0           0.0  "
      ]
     },
     "execution_count": 5,
     "metadata": {},
     "output_type": "execute_result"
    }
   ],
   "source": [
    "# Pegando os dados\n",
    "apple = yf.Ticker('AAPL')\n",
    "apple_data = apple.history(period='max', interval='1d')\n",
    "apple_data.head()"
   ]
  },
  {
   "cell_type": "code",
   "execution_count": 6,
   "id": "1a11e63a-e24a-442b-b286-575e173427ce",
   "metadata": {},
   "outputs": [
    {
     "name": "stdout",
     "output_type": "stream",
     "text": [
      "Tipo dos dados: <class 'pandas.core.frame.DataFrame'>\n",
      "Dimensões dos dados: (11017, 7)\n",
      "Colunas dos dados: Index(['Open', 'High', 'Low', 'Close', 'Volume', 'Dividends', 'Stock Splits'], dtype='object')\n",
      "<class 'pandas.core.frame.DataFrame'>\n",
      "DatetimeIndex: 11017 entries, 1980-12-12 00:00:00-05:00 to 2024-08-26 00:00:00-04:00\n",
      "Data columns (total 7 columns):\n",
      " #   Column        Non-Null Count  Dtype  \n",
      "---  ------        --------------  -----  \n",
      " 0   Open          11017 non-null  float64\n",
      " 1   High          11017 non-null  float64\n",
      " 2   Low           11017 non-null  float64\n",
      " 3   Close         11017 non-null  float64\n",
      " 4   Volume        11017 non-null  int64  \n",
      " 5   Dividends     11017 non-null  float64\n",
      " 6   Stock Splits  11017 non-null  float64\n",
      "dtypes: float64(6), int64(1)\n",
      "memory usage: 688.6 KB\n",
      "Informações dos dados: None\n"
     ]
    }
   ],
   "source": [
    "# Modelo dos dados\n",
    "print('Tipo dos dados:', type(apple_data))\n",
    "print('Dimensões dos dados:', apple_data.shape)\n",
    "print('Colunas dos dados:', apple_data.columns)\n",
    "print('Informações dos dados:', apple_data.info())"
   ]
  },
  {
   "cell_type": "code",
   "execution_count": 7,
   "id": "9d87c093-8a7e-4478-9288-a915a37db0d0",
   "metadata": {},
   "outputs": [
    {
     "data": {
      "text/plain": [
       "<Axes: title={'center': 'Preço de Fechamento da Ação da Apple'}, xlabel='Date'>"
      ]
     },
     "execution_count": 7,
     "metadata": {},
     "output_type": "execute_result"
    },
    {
     "data": {
      "image/png": "[encoded data removed]",
      "text/plain": [
       "<Figure size 640x480 with 1 Axes>"
      ]
     },
     "metadata": {},
     "output_type": "display_data"
    }
   ],
   "source": [
    "# Verificando o comportamento\n",
    "apple_data.plot(y='Close', title='Preço de Fechamento da Ação da Apple')"
   ]
  },
  {
   "cell_type": "code",
   "execution_count": null,
   "id": "b28314df-6c15-4400-b1f0-1418a85be3e4",
   "metadata": {},
   "outputs": [],
   "source": []
  }
 ],
 "metadata": {
  "kernelspec": {
   "display_name": "Python 3 (ipykernel)",
   "language": "python",
   "name": "python3"
  },
  "language_info": {
   "codemirror_mode": {
    "name": "ipython",
    "version": 3
   },
   "file_extension": ".py",
   "mimetype": "text/x-python",
   "name": "python",
   "nbconvert_exporter": "python",
   "pygments_lexer": "ipython3",
   "version": "3.12.4"
  }
 },
 "nbformat": 4,
 "nbformat_minor": 5
}
